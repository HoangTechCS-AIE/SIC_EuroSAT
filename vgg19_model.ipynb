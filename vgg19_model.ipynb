{
  "cells": [
    {
      "cell_type": "markdown",
      "metadata": {
        "id": "view-in-github",
        "colab_type": "text"
      },
      "source": [
        "<a href=\"https://colab.research.google.com/github/HoangTechCS-AIE/SIC_EuroSAT/blob/main/vgg19_model.ipynb\" target=\"_parent\"><img src=\"https://colab.research.google.com/assets/colab-badge.svg\" alt=\"Open In Colab\"/></a>"
      ]
    },
    {
      "cell_type": "markdown",
      "metadata": {
        "id": "Bzo7ta3r-DC0"
      },
      "source": [
        "#### 1. Import the Relevent Packages"
      ]
    },
    {
      "cell_type": "code",
      "execution_count": null,
      "metadata": {
        "id": "RQL4AaXW-DC2"
      },
      "outputs": [],
      "source": [
        "import torch\n",
        "import torch.nn as nn\n",
        "import torch.optim as optim\n",
        "from torchvision import transforms, datasets, models\n",
        "import cv2\n",
        "import numpy as np\n",
        "import matplotlib.pyplot as plt\n",
        "from torch.utils.data import DataLoader, Dataset\n",
        "from glob import glob\n",
        "from torchsummary import summary\n",
        "import os\n",
        "import warnings\n",
        "warnings.filterwarnings('ignore')"
      ]
    },
    {
      "cell_type": "code",
      "execution_count": null,
      "metadata": {
        "id": "xamkLUzT-DC3"
      },
      "outputs": [],
      "source": [
        "# Device configuration\n",
        "device = torch.device(\"cuda\" if torch.cuda.is_available() else \"cpu\")"
      ]
    },
    {
      "cell_type": "markdown",
      "metadata": {
        "id": "a9Oj-3n5-DC3"
      },
      "source": [
        "#### 2. Prepare the Dataset"
      ]
    },
    {
      "cell_type": "code",
      "execution_count": null,
      "metadata": {
        "id": "wO_Jdnlm-DC3"
      },
      "outputs": [],
      "source": [
        "class MyDataset(Dataset):\n",
        "\n",
        "    def __init__(self, root, transform_status=True):\n",
        "\n",
        "        self.root = root\n",
        "        self.images_paths = [glob(f'{root}/{folder}/*.jpg') for folder in os.listdir(f\"{root}\")]\n",
        "\n",
        "        import itertools\n",
        "        self.images_paths = list(itertools.chain.from_iterable(self.images_paths))\n",
        "\n",
        "        import random\n",
        "        random.shuffle(self.images_paths)\n",
        "\n",
        "        self.classes_names = {class_name:label for label, class_name in enumerate(os.listdir(f\"{root}\"))}\n",
        "        self.labels = [self.classes_names[os.path.basename(os.path.dirname(path))] for path in self.images_paths]\n",
        "        self.transform_status = transform_status\n",
        "        self.transform = transforms.Normalize(mean=[0.485,0.456, 0.406],std=[0.229, 0.224, 0.225])\n",
        "\n",
        "    def __len__(self):\n",
        "        return len(self.images_paths)\n",
        "\n",
        "    def __getitem__(self, index):\n",
        "        image_path = self.images_paths[index]\n",
        "        image = cv2.imread(image_path)[:,:,::-1]\n",
        "        image = cv2.resize(image, (64,64))\n",
        "        image = torch.tensor(image/255).permute(2,0,1)\n",
        "        if self.transform_status: image = self.transform(image)\n",
        "        label = self.labels[index]\n",
        "\n",
        "        return image.float().to(device), torch.tensor([label]).float().to(device)\n",
        "\n"
      ]
    },
    {
      "cell_type": "code",
      "source": [
        "\n",
        "data = MyDataset(\"EuroSat/dataset_rgb/train\", transform_status=False)"
      ],
      "metadata": {
        "id": "jWdGxNWL_y7a"
      },
      "execution_count": null,
      "outputs": []
    },
    {
      "cell_type": "code",
      "execution_count": null,
      "metadata": {
        "colab": {
          "base_uri": "https://localhost:8080/"
        },
        "id": "f8Ndrlhb-DC3",
        "outputId": "8f6ecff7-ba2b-4b8f-8176-a367c1cf08c4"
      },
      "outputs": [
        {
          "output_type": "execute_result",
          "data": {
            "text/plain": [
              "{'River': 0,\n",
              " 'Pasture': 1,\n",
              " 'Forest': 2,\n",
              " 'Residential': 3,\n",
              " 'Industrial': 4,\n",
              " 'AnnualCrop': 5,\n",
              " 'PermanentCrop': 6,\n",
              " 'HerbaceousVegetation': 7,\n",
              " 'Highway': 8,\n",
              " 'SeaLake': 9}"
            ]
          },
          "metadata": {},
          "execution_count": 11
        }
      ],
      "source": [
        "data.classes_names"
      ]
    },
    {
      "cell_type": "code",
      "execution_count": null,
      "metadata": {
        "id": "0EilxvJt-DC4"
      },
      "outputs": [],
      "source": [
        "import random\n",
        "image, label = data[random.randint(0, len(data))]"
      ]
    },
    {
      "cell_type": "code",
      "execution_count": null,
      "metadata": {
        "colab": {
          "base_uri": "https://localhost:8080/",
          "height": 484
        },
        "id": "yBsEqGhP-DC4",
        "outputId": "ea093c2b-dd07-4ac6-819e-7687e57e0f7f"
      },
      "outputs": [
        {
          "output_type": "stream",
          "name": "stdout",
          "text": [
            "Image Size: 64 x 64 x 3\n",
            "Label: tensor([9.], device='cuda:0')\n",
            "SeaLake\n"
          ]
        },
        {
          "output_type": "display_data",
          "data": {
            "text/plain": [
              "<Figure size 640x480 with 1 Axes>"
            ],
            "image/png": "[encoded data removed]"
          },
          "metadata": {}
        }
      ],
      "source": [
        "print(f\"Image Size: {image.shape[2]} x {image.shape[1]} x {image.shape[0]}\")\n",
        "print(f\"Label: {label}\")\n",
        "print([key  for key, value in data.classes_names.items() if value == label][0])\n",
        "plt.imshow(image.permute(1,2,0).cpu().numpy())\n",
        "plt.show()"
      ]
    },
    {
      "cell_type": "code",
      "execution_count": null,
      "metadata": {
        "id": "TspvQmgF-DC4"
      },
      "outputs": [],
      "source": [
        "train_dataset = MyDataset(\"EuroSat/dataset_rgb/train\", transform_status=True)\n",
        "test_dataset = MyDataset(\"EuroSat/dataset_rgb/test\", transform_status=True)\n",
        "train_dataset_loader = DataLoader(train_dataset, batch_size=32, shuffle=True, drop_last=True)\n",
        "test_dataset_loader = DataLoader(test_dataset, batch_size=32, shuffle=True, drop_last=True)"
      ]
    },
    {
      "cell_type": "markdown",
      "metadata": {
        "id": "fUf6QxRe-DC4"
      },
      "source": [
        "#### 3. Build the Model"
      ]
    },
    {
      "cell_type": "code",
      "execution_count": null,
      "metadata": {
        "id": "Wmfon4i4-DC4"
      },
      "outputs": [],
      "source": [
        "def build_model():\n",
        "    vgg19 = models.vgg19(pretrained=True)\n",
        "    for param in vgg19.parameters():\n",
        "        param.requires_grad = False\n",
        "    vgg19.avgpool = nn.AdaptiveAvgPool2d(output_size=(1,1))\n",
        "    vgg19.classifier = nn.Sequential(   nn.Flatten(),\n",
        "                                        nn.Linear(512, 128),\n",
        "                                        nn.ReLU(),\n",
        "                                        nn.Dropout(0.2),\n",
        "                                        nn.Linear(128, 10))\n",
        "    loss_function = nn.CrossEntropyLoss()\n",
        "    optimizer = optim.Adam(vgg19.parameters(), lr=1e-3)\n",
        "\n",
        "    return vgg19.to(device), loss_function, optimizer"
      ]
    },
    {
      "cell_type": "code",
      "execution_count": null,
      "metadata": {
        "colab": {
          "base_uri": "https://localhost:8080/"
        },
        "id": "c4UxUEEG-DC4",
        "outputId": "4e27f1dc-f04d-4d72-ace5-128d0de0bb57"
      },
      "outputs": [
        {
          "output_type": "stream",
          "name": "stderr",
          "text": [
            "Downloading: \"https://download.pytorch.org/models/vgg19-dcbb9e9d.pth\" to /root/.cache/torch/hub/checkpoints/vgg19-dcbb9e9d.pth\n",
            "100%|██████████| 548M/548M [00:03<00:00, 144MB/s]\n"
          ]
        }
      ],
      "source": [
        "model , loss_function, optimizer = build_model()"
      ]
    },
    {
      "cell_type": "code",
      "execution_count": null,
      "metadata": {
        "colab": {
          "base_uri": "https://localhost:8080/"
        },
        "id": "9Hf5nIrN-DC5",
        "outputId": "dea46538-3100-44f9-fa55-f8633260ff8c"
      },
      "outputs": [
        {
          "output_type": "stream",
          "name": "stdout",
          "text": [
            "----------------------------------------------------------------\n",
            "        Layer (type)               Output Shape         Param #\n",
            "================================================================\n",
            "            Conv2d-1           [-1, 64, 64, 64]           1,792\n",
            "              ReLU-2           [-1, 64, 64, 64]               0\n",
            "            Conv2d-3           [-1, 64, 64, 64]          36,928\n",
            "              ReLU-4           [-1, 64, 64, 64]               0\n",
            "         MaxPool2d-5           [-1, 64, 32, 32]               0\n",
            "            Conv2d-6          [-1, 128, 32, 32]          73,856\n",
            "              ReLU-7          [-1, 128, 32, 32]               0\n",
            "            Conv2d-8          [-1, 128, 32, 32]         147,584\n",
            "              ReLU-9          [-1, 128, 32, 32]               0\n",
            "        MaxPool2d-10          [-1, 128, 16, 16]               0\n",
            "           Conv2d-11          [-1, 256, 16, 16]         295,168\n",
            "             ReLU-12          [-1, 256, 16, 16]               0\n",
            "           Conv2d-13          [-1, 256, 16, 16]         590,080\n",
            "             ReLU-14          [-1, 256, 16, 16]               0\n",
            "           Conv2d-15          [-1, 256, 16, 16]         590,080\n",
            "             ReLU-16          [-1, 256, 16, 16]               0\n",
            "           Conv2d-17          [-1, 256, 16, 16]         590,080\n",
            "             ReLU-18          [-1, 256, 16, 16]               0\n",
            "        MaxPool2d-19            [-1, 256, 8, 8]               0\n",
            "           Conv2d-20            [-1, 512, 8, 8]       1,180,160\n",
            "             ReLU-21            [-1, 512, 8, 8]               0\n",
            "           Conv2d-22            [-1, 512, 8, 8]       2,359,808\n",
            "             ReLU-23            [-1, 512, 8, 8]               0\n",
            "           Conv2d-24            [-1, 512, 8, 8]       2,359,808\n",
            "             ReLU-25            [-1, 512, 8, 8]               0\n",
            "           Conv2d-26            [-1, 512, 8, 8]       2,359,808\n",
            "             ReLU-27            [-1, 512, 8, 8]               0\n",
            "        MaxPool2d-28            [-1, 512, 4, 4]               0\n",
            "           Conv2d-29            [-1, 512, 4, 4]       2,359,808\n",
            "             ReLU-30            [-1, 512, 4, 4]               0\n",
            "           Conv2d-31            [-1, 512, 4, 4]       2,359,808\n",
            "             ReLU-32            [-1, 512, 4, 4]               0\n",
            "           Conv2d-33            [-1, 512, 4, 4]       2,359,808\n",
            "             ReLU-34            [-1, 512, 4, 4]               0\n",
            "           Conv2d-35            [-1, 512, 4, 4]       2,359,808\n",
            "             ReLU-36            [-1, 512, 4, 4]               0\n",
            "        MaxPool2d-37            [-1, 512, 2, 2]               0\n",
            "AdaptiveAvgPool2d-38            [-1, 512, 1, 1]               0\n",
            "          Flatten-39                  [-1, 512]               0\n",
            "           Linear-40                  [-1, 128]          65,664\n",
            "             ReLU-41                  [-1, 128]               0\n",
            "          Dropout-42                  [-1, 128]               0\n",
            "           Linear-43                   [-1, 10]           1,290\n",
            "================================================================\n",
            "Total params: 20,091,338\n",
            "Trainable params: 66,954\n",
            "Non-trainable params: 20,024,384\n",
            "----------------------------------------------------------------\n",
            "Input size (MB): 0.05\n",
            "Forward/backward pass size (MB): 19.46\n",
            "Params size (MB): 76.64\n",
            "Estimated Total Size (MB): 96.15\n",
            "----------------------------------------------------------------\n"
          ]
        }
      ],
      "source": [
        "summary(model, (3, 64, 64))\n"
      ]
    },
    {
      "cell_type": "markdown",
      "metadata": {
        "id": "N0NvfAfY-DC5"
      },
      "source": [
        "#### 4. Build the Train and Accuracy Functions"
      ]
    },
    {
      "cell_type": "code",
      "execution_count": null,
      "metadata": {
        "id": "SGGnRfgr-DC5"
      },
      "outputs": [],
      "source": [
        "def train_batch(model, loss_function, optimizer, image, label):\n",
        "    model.train()\n",
        "    optimizer.zero_grad()\n",
        "    prediction = model(image)\n",
        "    loss = loss_function(prediction, label.long().squeeze())\n",
        "    loss.backward()\n",
        "    optimizer.step()\n",
        "    return loss.item()"
      ]
    },
    {
      "cell_type": "code",
      "execution_count": null,
      "metadata": {
        "id": "GUcqT1cs-DC5"
      },
      "outputs": [],
      "source": [
        "@torch.no_grad()\n",
        "def accuracy(model, loss_function, image, label):\n",
        "    model.eval()\n",
        "    prediction = model(image)\n",
        "    max_values, argmaxes = prediction.max(-1)\n",
        "    is_correct = argmaxes == label.long().squeeze()\n",
        "    return is_correct.cpu().numpy().tolist()"
      ]
    },
    {
      "cell_type": "code",
      "execution_count": null,
      "metadata": {
        "id": "_gwt_UOe-DC5"
      },
      "outputs": [],
      "source": [
        "@torch.no_grad()\n",
        "def validation_loss(model, loss_function, image, label):\n",
        "    model.eval()\n",
        "    prediction = model(image)\n",
        "    loss = loss_function(prediction, label.long().squeeze())\n",
        "    return loss.item()"
      ]
    },
    {
      "cell_type": "markdown",
      "metadata": {
        "id": "n_DWgMln-DC5"
      },
      "source": [
        "#### 5. Train the Model"
      ]
    },
    {
      "cell_type": "code",
      "execution_count": null,
      "metadata": {
        "colab": {
          "base_uri": "https://localhost:8080/"
        },
        "id": "nonEsDFf-DC5",
        "outputId": "4793355f-2607-4d37-ea32-771519097c6a"
      },
      "outputs": [
        {
          "output_type": "stream",
          "name": "stdout",
          "text": [
            "Epoch: 1\n",
            "Train Loss: 0.4540\n",
            "Train Accuracy: 90.68%\n",
            "Test Loss: 0.3447\n",
            "Test Accuracy: 87.90%\n",
            "Epoch: 2\n",
            "Train Loss: 0.2871\n",
            "Train Accuracy: 92.04%\n",
            "Test Loss: 0.3359\n",
            "Test Accuracy: 88.62%\n",
            "Epoch: 3\n",
            "Train Loss: 0.2482\n",
            "Train Accuracy: 93.13%\n",
            "Test Loss: 0.3258\n",
            "Test Accuracy: 89.02%\n",
            "Epoch: 4\n",
            "Train Loss: 0.2220\n",
            "Train Accuracy: 94.12%\n",
            "Test Loss: 0.3177\n",
            "Test Accuracy: 89.34%\n",
            "Epoch: 5\n",
            "Train Loss: 0.2025\n",
            "Train Accuracy: 94.59%\n",
            "Test Loss: 0.3245\n",
            "Test Accuracy: 89.48%\n",
            "Epoch: 6\n",
            "Train Loss: 0.1870\n",
            "Train Accuracy: 94.96%\n",
            "Test Loss: 0.3244\n",
            "Test Accuracy: 89.48%\n",
            "Epoch: 7\n",
            "Train Loss: 0.1715\n",
            "Train Accuracy: 95.70%\n",
            "Test Loss: 0.3242\n",
            "Test Accuracy: 90.10%\n",
            "Epoch: 8\n",
            "Train Loss: 0.1543\n",
            "Train Accuracy: 96.17%\n",
            "Test Loss: 0.3233\n",
            "Test Accuracy: 89.60%\n",
            "Epoch: 9\n",
            "Train Loss: 0.1411\n",
            "Train Accuracy: 97.01%\n",
            "Test Loss: 0.3251\n",
            "Test Accuracy: 89.86%\n",
            "Epoch: 10\n",
            "Train Loss: 0.1276\n",
            "Train Accuracy: 97.18%\n",
            "Test Loss: 0.3322\n",
            "Test Accuracy: 90.40%\n",
            "Epoch: 11\n",
            "Train Loss: 0.1191\n",
            "Train Accuracy: 97.21%\n",
            "Test Loss: 0.3643\n",
            "Test Accuracy: 89.56%\n",
            "Epoch: 12\n",
            "Train Loss: 0.1084\n",
            "Train Accuracy: 97.45%\n",
            "Test Loss: 0.3720\n",
            "Test Accuracy: 89.82%\n",
            "Epoch: 13\n",
            "Train Loss: 0.1017\n",
            "Train Accuracy: 97.98%\n",
            "Test Loss: 0.3719\n",
            "Test Accuracy: 90.12%\n",
            "Epoch: 14\n",
            "Train Loss: 0.0936\n",
            "Train Accuracy: 98.33%\n",
            "Test Loss: 0.3836\n",
            "Test Accuracy: 90.02%\n",
            "Epoch: 15\n",
            "Train Loss: 0.0847\n",
            "Train Accuracy: 98.14%\n",
            "Test Loss: 0.3873\n",
            "Test Accuracy: 89.94%\n",
            "Epoch: 16\n",
            "Train Loss: 0.0807\n",
            "Train Accuracy: 98.67%\n",
            "Test Loss: 0.4055\n",
            "Test Accuracy: 90.10%\n",
            "Epoch: 17\n",
            "Train Loss: 0.0762\n",
            "Train Accuracy: 99.02%\n",
            "Test Loss: 0.3964\n",
            "Test Accuracy: 90.36%\n",
            "Epoch: 18\n",
            "Train Loss: 0.0675\n",
            "Train Accuracy: 99.01%\n",
            "Test Loss: 0.4101\n",
            "Test Accuracy: 90.34%\n",
            "Epoch: 19\n",
            "Train Loss: 0.0680\n",
            "Train Accuracy: 99.11%\n",
            "Test Loss: 0.4213\n",
            "Test Accuracy: 89.96%\n",
            "Epoch: 20\n",
            "Train Loss: 0.0616\n",
            "Train Accuracy: 99.15%\n",
            "Test Loss: 0.4349\n",
            "Test Accuracy: 90.40%\n",
            "Epoch: 21\n",
            "Train Loss: 0.0578\n",
            "Train Accuracy: 99.21%\n",
            "Test Loss: 0.4505\n",
            "Test Accuracy: 90.28%\n",
            "Epoch: 22\n",
            "Train Loss: 0.0540\n",
            "Train Accuracy: 99.33%\n",
            "Test Loss: 0.4661\n",
            "Test Accuracy: 89.80%\n",
            "Epoch: 23\n",
            "Train Loss: 0.0521\n",
            "Train Accuracy: 99.44%\n",
            "Test Loss: 0.4661\n",
            "Test Accuracy: 90.38%\n",
            "Epoch: 24\n",
            "Train Loss: 0.0500\n",
            "Train Accuracy: 99.39%\n",
            "Test Loss: 0.4807\n",
            "Test Accuracy: 90.30%\n",
            "Epoch: 25\n",
            "Train Loss: 0.0494\n",
            "Train Accuracy: 99.37%\n",
            "Test Loss: 0.5140\n",
            "Test Accuracy: 89.94%\n"
          ]
        }
      ],
      "source": [
        "train_losses = []\n",
        "train_accuracies = []\n",
        "test_losses = []\n",
        "test_accuracies = []\n",
        "for epoch in range(25):\n",
        "    print(f\"Epoch: {epoch+1}\")\n",
        "    train_epoch_losses = []\n",
        "    train_epoch_accuracies = []\n",
        "    for image, label in iter(train_dataset_loader):\n",
        "        loss = train_batch(model, loss_function, optimizer, image, label)\n",
        "        train_epoch_losses.append(loss)\n",
        "    train_epoch_loss = np.mean(train_epoch_losses)\n",
        "    print(f\"Train Loss: {train_epoch_loss:.4f}\")\n",
        "    train_losses.append(train_epoch_loss)\n",
        "\n",
        "    for image, label in iter(train_dataset_loader):\n",
        "        is_correct = accuracy(model, loss_function, image, label)\n",
        "        train_epoch_accuracies.extend(is_correct)\n",
        "    train_epoch_accuracy = np.mean(train_epoch_accuracies)\n",
        "    print(f\"Train Accuracy: {train_epoch_accuracy*100:.2f}%\")\n",
        "    train_accuracies.append(train_epoch_accuracy)\n",
        "\n",
        "    test_epoch_losses = []\n",
        "    test_epoch_accuracies = []\n",
        "    for image, label in iter(test_dataset_loader):\n",
        "        loss = validation_loss(model, loss_function, image, label)\n",
        "        test_epoch_losses.append(loss)\n",
        "        is_correct = accuracy(model, loss_function, image, label)\n",
        "        test_epoch_accuracies.extend(is_correct)\n",
        "    test_epoch_loss = np.mean(test_epoch_losses)\n",
        "    print(f\"Test Loss: {test_epoch_loss:.4f}\")\n",
        "    test_losses.append(test_epoch_loss)\n",
        "    test_epcoh_accuracy = np.mean(test_epoch_accuracies)\n",
        "    print(f\"Test Accuracy: {test_epcoh_accuracy*100:.2f}%\")\n",
        "    test_accuracies.append(test_epcoh_accuracy)\n"
      ]
    },
    {
      "cell_type": "code",
      "source": [
        "# Save the model\n",
        "torch.save(model.state_dict(), 'trained_model.pth')\n",
        "\n",
        "# Download the saved model file\n",
        "from google.colab import files\n",
        "files.download('trained_model.pth')"
      ],
      "metadata": {
        "colab": {
          "base_uri": "https://localhost:8080/",
          "height": 17
        },
        "id": "9llx8pvlGOl5",
        "outputId": "baa09fda-0acd-4ca3-d1ef-cb905516f495"
      },
      "execution_count": null,
      "outputs": [
        {
          "output_type": "display_data",
          "data": {
            "text/plain": [
              "<IPython.core.display.Javascript object>"
            ],
            "application/javascript": [
              "\n",
              "    async function download(id, filename, size) {\n",
              "      if (!google.colab.kernel.accessAllowed) {\n",
              "        return;\n",
              "      }\n",
              "      const div = document.createElement('div');\n",
              "      const label = document.createElement('label');\n",
              "      label.textContent = `Downloading \"${filename}\": `;\n",
              "      div.appendChild(label);\n",
              "      const progress = document.createElement('progress');\n",
              "      progress.max = size;\n",
              "      div.appendChild(progress);\n",
              "      document.body.appendChild(div);\n",
              "\n",
              "      const buffers = [];\n",
              "      let downloaded = 0;\n",
              "\n",
              "      const channel = await google.colab.kernel.comms.open(id);\n",
              "      // Send a message to notify the kernel that we're ready.\n",
              "      channel.send({})\n",
              "\n",
              "      for await (const message of channel.messages) {\n",
              "        // Send a message to notify the kernel that we're ready.\n",
              "        channel.send({})\n",
              "        if (message.buffers) {\n",
              "          for (const buffer of message.buffers) {\n",
              "            buffers.push(buffer);\n",
              "            downloaded += buffer.byteLength;\n",
              "            progress.value = downloaded;\n",
              "          }\n",
              "        }\n",
              "      }\n",
              "      const blob = new Blob(buffers, {type: 'application/binary'});\n",
              "      const a = document.createElement('a');\n",
              "      a.href = window.URL.createObjectURL(blob);\n",
              "      a.download = filename;\n",
              "      div.appendChild(a);\n",
              "      a.click();\n",
              "      div.remove();\n",
              "    }\n",
              "  "
            ]
          },
          "metadata": {}
        },
        {
          "output_type": "display_data",
          "data": {
            "text/plain": [
              "<IPython.core.display.Javascript object>"
            ],
            "application/javascript": [
              "download(\"download_0ee4dd3c-87e8-4c1b-99e2-beaca02d9c3b\", \"trained_model.pth\", 80378522)"
            ]
          },
          "metadata": {}
        }
      ]
    },
    {
      "cell_type": "markdown",
      "metadata": {
        "id": "c4d7lsaJ-DC5"
      },
      "source": [
        "#### 6. Visualize the Train Loss/Accuracy and the Test Loss/Accuracy"
      ]
    },
    {
      "cell_type": "code",
      "execution_count": null,
      "metadata": {
        "colab": {
          "base_uri": "https://localhost:8080/",
          "height": 254
        },
        "id": "pVcWwoIf-DC5",
        "outputId": "f8a17dc0-e3f8-4a61-d25c-0650da3b080e"
      },
      "outputs": [
        {
          "output_type": "display_data",
          "data": {
            "text/plain": [
              "<Figure size 2000x500 with 2 Axes>"
            ],
            "image/png": "[encoded data removed]"
          },
          "metadata": {}
        }
      ],
      "source": [
        "epochs = np.arange(25)+1\n",
        "plt.figure(figsize=(20,5))\n",
        "plt.subplot(121)\n",
        "plt.title('Training and Test Loss value over increasing epochs')\n",
        "plt.plot(epochs, train_losses,'b', label='Training Loss')\n",
        "plt.plot(epochs, test_losses,'r', label='Test Loss')\n",
        "plt.legend()\n",
        "plt.subplot(122)\n",
        "plt.title('Training and Test Accuracy value over increasing epochs')\n",
        "plt.plot(epochs, train_accuracies,'b', label='Training Accuracy')\n",
        "plt.plot(epochs, test_accuracies,'r', label='Test Accuracy')\n",
        "plt.gca().set_yticklabels(['{:.0f}%'.format(x*100) for x in plt.gca().get_yticks()])\n",
        "plt.legend()\n",
        "plt.show()"
      ]
    },
    {
      "cell_type": "code",
      "execution_count": null,
      "metadata": {
        "id": "sd7Dj8ja-DC5"
      },
      "outputs": [],
      "source": []
    }
  ],
  "metadata": {
    "kernelspec": {
      "display_name": "Python 3",
      "name": "python3"
    },
    "language_info": {
      "codemirror_mode": {
        "name": "ipython",
        "version": 3
      },
      "file_extension": ".py",
      "mimetype": "text/x-python",
      "name": "python",
      "nbconvert_exporter": "python",
      "pygments_lexer": "ipython3",
      "version": "3.10.6"
    },
    "colab": {
      "provenance": [],
      "gpuType": "T4",
      "include_colab_link": true
    },
    "accelerator": "GPU"
  },
  "nbformat": 4,
  "nbformat_minor": 0
}